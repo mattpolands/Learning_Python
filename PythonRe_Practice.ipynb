{
  "nbformat": 4,
  "nbformat_minor": 0,
  "metadata": {
    "colab": {
      "provenance": [],
      "authorship_tag": "ABX9TyN3FVYP/uhxGZWMh7vSBQT7",
      "include_colab_link": true
    },
    "kernelspec": {
      "name": "python3",
      "display_name": "Python 3"
    },
    "language_info": {
      "name": "python"
    }
  },
  "cells": [
    {
      "cell_type": "markdown",
      "metadata": {
        "id": "view-in-github",
        "colab_type": "text"
      },
      "source": [
        "<a href=\"https://colab.research.google.com/github/mattpolands/Learning_Python/blob/main/PythonRe_Practice.ipynb\" target=\"_parent\"><img src=\"https://colab.research.google.com/assets/colab-badge.svg\" alt=\"Open In Colab\"/></a>"
      ]
    },
    {
      "cell_type": "code",
      "execution_count": null,
      "metadata": {
        "colab": {
          "base_uri": "https://localhost:8080/"
        },
        "id": "2FPZPrOyC9xf",
        "outputId": "114f7d12-dd29-45c4-8b68-2a0d3298eb0b"
      },
      "outputs": [
        {
          "output_type": "execute_result",
          "data": {
            "text/plain": [
              "3"
            ]
          },
          "metadata": {},
          "execution_count": 1
        }
      ],
      "source": [
        "1*3"
      ]
    },
    {
      "cell_type": "code",
      "source": [
        "2**4"
      ],
      "metadata": {
        "colab": {
          "base_uri": "https://localhost:8080/"
        },
        "id": "tFHcgWgoDMEM",
        "outputId": "083bd09d-75af-43d3-f600-a7b0685a3cde"
      },
      "execution_count": null,
      "outputs": [
        {
          "output_type": "execute_result",
          "data": {
            "text/plain": [
              "16"
            ]
          },
          "metadata": {},
          "execution_count": 2
        }
      ]
    },
    {
      "cell_type": "code",
      "source": [
        "#Modulus - gives you the remainder\n",
        "5 % 2"
      ],
      "metadata": {
        "colab": {
          "base_uri": "https://localhost:8080/"
        },
        "id": "AjnnpSC4DO0j",
        "outputId": "8265646f-951c-44ad-c0a0-6a4ff4d94a5a"
      },
      "execution_count": null,
      "outputs": [
        {
          "output_type": "execute_result",
          "data": {
            "text/plain": [
              "1"
            ]
          },
          "metadata": {},
          "execution_count": 3
        }
      ]
    },
    {
      "cell_type": "code",
      "source": [
        "#assigning variables\n",
        "x=2\n",
        "y=3\n"
      ],
      "metadata": {
        "id": "AY-H92JzDbo7"
      },
      "execution_count": null,
      "outputs": []
    },
    {
      "cell_type": "code",
      "source": [
        "#now see what happens\n",
        "x*2"
      ],
      "metadata": {
        "colab": {
          "base_uri": "https://localhost:8080/"
        },
        "id": "tC8UVGWVDp4V",
        "outputId": "2f11231d-2a42-454e-9cd3-f1a9e98b2cee"
      },
      "execution_count": null,
      "outputs": [
        {
          "output_type": "execute_result",
          "data": {
            "text/plain": [
              "4"
            ]
          },
          "metadata": {},
          "execution_count": 5
        }
      ]
    },
    {
      "cell_type": "code",
      "source": [
        "x+y"
      ],
      "metadata": {
        "colab": {
          "base_uri": "https://localhost:8080/"
        },
        "id": "f7WvyDABDtTU",
        "outputId": "c462c97d-3901-4dc1-8eb7-3cc610774bb9"
      },
      "execution_count": null,
      "outputs": [
        {
          "output_type": "execute_result",
          "data": {
            "text/plain": [
              "5"
            ]
          },
          "metadata": {},
          "execution_count": 6
        }
      ]
    },
    {
      "cell_type": "code",
      "source": [
        "#can reassign x\n",
        "x=x*x\n"
      ],
      "metadata": {
        "id": "U1CCZQn9DvPc"
      },
      "execution_count": null,
      "outputs": []
    },
    {
      "cell_type": "code",
      "source": [
        "x"
      ],
      "metadata": {
        "colab": {
          "base_uri": "https://localhost:8080/"
        },
        "id": "VcI5GrBpD_Cx",
        "outputId": "5a7907d3-2bdc-46e9-e9b4-b92eed6c3ce9"
      },
      "execution_count": null,
      "outputs": [
        {
          "output_type": "execute_result",
          "data": {
            "text/plain": [
              "4"
            ]
          },
          "metadata": {},
          "execution_count": 8
        }
      ]
    },
    {
      "cell_type": "code",
      "source": [
        "x+y"
      ],
      "metadata": {
        "colab": {
          "base_uri": "https://localhost:8080/"
        },
        "id": "NlccJqaVEASI",
        "outputId": "ddccc5dd-b968-4cd8-fdb9-b0da2f2e47ae"
      },
      "execution_count": null,
      "outputs": [
        {
          "output_type": "execute_result",
          "data": {
            "text/plain": [
              "7"
            ]
          },
          "metadata": {},
          "execution_count": 10
        }
      ]
    },
    {
      "cell_type": "code",
      "source": [
        "#proper format for naming variables\n",
        "#can have any label creator sees fit but underscores should be added to connect multiple words\n",
        "#example\n",
        "name_of_variable = 12"
      ],
      "metadata": {
        "id": "5Dpd6SDPEEIr"
      },
      "execution_count": null,
      "outputs": []
    },
    {
      "cell_type": "code",
      "source": [
        "#calling variable\n",
        "name_of_variable"
      ],
      "metadata": {
        "colab": {
          "base_uri": "https://localhost:8080/"
        },
        "id": "G1sV-lnfF4NJ",
        "outputId": "2b3cb60d-d0fa-4a71-e4f0-0927b47c0525"
      },
      "execution_count": null,
      "outputs": [
        {
          "output_type": "execute_result",
          "data": {
            "text/plain": [
              "12"
            ]
          },
          "metadata": {},
          "execution_count": 15
        }
      ]
    },
    {
      "cell_type": "code",
      "source": [
        "#strings are variables consisting of letters and words \n",
        "#denoted by single or double quotations \n",
        "#example \n",
        "variable = 'string'\n",
        "#double quotes when there is need for apostrophe within string\n",
        "#example \n",
        "variable_2 = \"str'ng\""
      ],
      "metadata": {
        "id": "OQnyMh2CF7Q1"
      },
      "execution_count": null,
      "outputs": []
    },
    {
      "cell_type": "code",
      "source": [
        "#now calling a string\n",
        "variable"
      ],
      "metadata": {
        "colab": {
          "base_uri": "https://localhost:8080/",
          "height": 37
        },
        "id": "nE_b6rlNGpuV",
        "outputId": "d12c87b7-9c6d-4348-cc9e-fd9d13956905"
      },
      "execution_count": null,
      "outputs": [
        {
          "output_type": "execute_result",
          "data": {
            "text/plain": [
              "'string'"
            ],
            "application/vnd.google.colaboratory.intrinsic+json": {
              "type": "string"
            }
          },
          "metadata": {},
          "execution_count": 16
        }
      ]
    },
    {
      "cell_type": "code",
      "source": [
        "#however see how above brings the entire string, quotes included\n",
        "#proper way to call a string\n",
        "print(variable)"
      ],
      "metadata": {
        "colab": {
          "base_uri": "https://localhost:8080/"
        },
        "id": "z2Ymj9xgGw2M",
        "outputId": "0a97f4ee-6437-47a7-9c49-bbc0e022d261"
      },
      "execution_count": null,
      "outputs": [
        {
          "output_type": "stream",
          "name": "stdout",
          "text": [
            "string\n"
          ]
        }
      ]
    },
    {
      "cell_type": "code",
      "source": [
        "#see how above output is the string without quotes included"
      ],
      "metadata": {
        "id": "hh2qPHdpG7sL"
      },
      "execution_count": null,
      "outputs": []
    },
    {
      "cell_type": "code",
      "source": [
        "#potential uses/advantages using strings\n",
        "#example\n",
        "'Variable is {}, and Variable2 is {}'.format(variable, variable_2)"
      ],
      "metadata": {
        "colab": {
          "base_uri": "https://localhost:8080/",
          "height": 37
        },
        "id": "_fC2yRd5HDmX",
        "outputId": "64f8acb3-018a-4f32-b7ea-5a8ea1f39e5c"
      },
      "execution_count": null,
      "outputs": [
        {
          "output_type": "execute_result",
          "data": {
            "text/plain": [
              "\"Variable is string, and Variable2 is str'ng\""
            ],
            "application/vnd.google.colaboratory.intrinsic+json": {
              "type": "string"
            }
          },
          "metadata": {},
          "execution_count": 19
        }
      ]
    },
    {
      "cell_type": "code",
      "source": [
        "#above adds variables in the order that they are given\n",
        "print('Variable is {}, and Variable2 is {}'.format(variable, variable_2))"
      ],
      "metadata": {
        "colab": {
          "base_uri": "https://localhost:8080/"
        },
        "id": "k7mDf3JAHlUB",
        "outputId": "b32fa0dd-392d-49d4-fb2a-287fa7c895b1"
      },
      "execution_count": null,
      "outputs": [
        {
          "output_type": "stream",
          "name": "stdout",
          "text": [
            "Variable is string, and Variable2 is str'ng\n"
          ]
        }
      ]
    },
    {
      "cell_type": "code",
      "source": [
        "#once again print function outputs string without quotes\n",
        "#can optimize the .format order by creating a within function set of variables \n",
        "#this is beneficial when the statement needs multiples of the same variable \n",
        "#or the variables do not come in sequential order\n",
        "#example\n",
        "print('Variable2 is {two}, and Variable is {one}.'.format(one=variable,two=variable_2))"
      ],
      "metadata": {
        "colab": {
          "base_uri": "https://localhost:8080/"
        },
        "id": "BXDx7eZ6H52V",
        "outputId": "bdacc92e-87e4-4af0-ecae-5950c8024d88"
      },
      "execution_count": null,
      "outputs": [
        {
          "output_type": "stream",
          "name": "stdout",
          "text": [
            "Variable2 is str'ng, and Variable is string.\n"
          ]
        }
      ]
    },
    {
      "cell_type": "code",
      "source": [
        "from shutil import get_unpack_formats\n",
        "#a string is just a series of elements\n",
        "#'goat' is four elements \n",
        "#g is 0, o is 1, a is 2, t is 3\n",
        "#indexes in Python start sequentially at 0\n",
        "#example of how to use this \n",
        "s = 'goat'"
      ],
      "metadata": {
        "id": "jYCa1hcLJGXe"
      },
      "execution_count": null,
      "outputs": []
    },
    {
      "cell_type": "code",
      "source": [
        "s[1]"
      ],
      "metadata": {
        "colab": {
          "base_uri": "https://localhost:8080/",
          "height": 37
        },
        "id": "aR83sy7QKBtJ",
        "outputId": "cd5ea7bb-a38b-42e6-d8c1-58e137afdfb5"
      },
      "execution_count": null,
      "outputs": [
        {
          "output_type": "execute_result",
          "data": {
            "text/plain": [
              "'o'"
            ],
            "application/vnd.google.colaboratory.intrinsic+json": {
              "type": "string"
            }
          },
          "metadata": {},
          "execution_count": 24
        }
      ]
    },
    {
      "cell_type": "code",
      "source": [
        "#the colon allows us to grab sets of elements from a string\n",
        "#this is called slice notation\n",
        "#example\n",
        "s[1:]"
      ],
      "metadata": {
        "colab": {
          "base_uri": "https://localhost:8080/",
          "height": 37
        },
        "id": "LyRiaHFfKHYd",
        "outputId": "593f6b40-557a-4823-ee0d-a270edf2c518"
      },
      "execution_count": null,
      "outputs": [
        {
          "output_type": "execute_result",
          "data": {
            "text/plain": [
              "'oat'"
            ],
            "application/vnd.google.colaboratory.intrinsic+json": {
              "type": "string"
            }
          },
          "metadata": {},
          "execution_count": 25
        }
      ]
    },
    {
      "cell_type": "code",
      "source": [
        "#s[1:] basically says grab element 1 and then everything beyond element 1\n",
        "#can change the direction of the grab request\n",
        "s[:2]"
      ],
      "metadata": {
        "colab": {
          "base_uri": "https://localhost:8080/",
          "height": 37
        },
        "id": "mscYnJB-KXX0",
        "outputId": "066df99a-27b2-40b2-9dc0-b6b12166eab1"
      },
      "execution_count": null,
      "outputs": [
        {
          "output_type": "execute_result",
          "data": {
            "text/plain": [
              "'go'"
            ],
            "application/vnd.google.colaboratory.intrinsic+json": {
              "type": "string"
            }
          },
          "metadata": {},
          "execution_count": 26
        }
      ]
    },
    {
      "cell_type": "code",
      "source": [
        "#key factor from above is that the colon before pulls everything before the selected element\n",
        "#above says grab everything prior to element 2, so the return is element 0 and 1\n",
        "#where as the colon after example grabs the element selected (in this case 1) and everything after"
      ],
      "metadata": {
        "id": "3_WAkOaZKwFo"
      },
      "execution_count": null,
      "outputs": []
    },
    {
      "cell_type": "code",
      "source": [
        "#the colon can also be used to be more selective\n",
        "#example\n",
        "s[1:3]"
      ],
      "metadata": {
        "colab": {
          "base_uri": "https://localhost:8080/",
          "height": 37
        },
        "id": "Zl9i-_XeLZ7a",
        "outputId": "0aefcbd7-c32c-4a15-af8d-31edf45cb338"
      },
      "execution_count": null,
      "outputs": [
        {
          "output_type": "execute_result",
          "data": {
            "text/plain": [
              "'oa'"
            ],
            "application/vnd.google.colaboratory.intrinsic+json": {
              "type": "string"
            }
          },
          "metadata": {},
          "execution_count": 29
        }
      ]
    },
    {
      "cell_type": "code",
      "source": [
        "#a list is a series of elements within square brackets separated by commas\n",
        "#simple example\n",
        "list = [1,2,3]"
      ],
      "metadata": {
        "id": "BCUss8lLLzX-"
      },
      "execution_count": null,
      "outputs": []
    },
    {
      "cell_type": "code",
      "source": [
        "#can then index the created list\n",
        "list[1]"
      ],
      "metadata": {
        "colab": {
          "base_uri": "https://localhost:8080/"
        },
        "id": "6BjR6KSJNKUQ",
        "outputId": "fdeb7cf2-3650-40de-b810-fa84c50bcb1e"
      },
      "execution_count": null,
      "outputs": [
        {
          "output_type": "execute_result",
          "data": {
            "text/plain": [
              "2"
            ]
          },
          "metadata": {},
          "execution_count": 31
        }
      ]
    },
    {
      "cell_type": "code",
      "source": [
        "#can create lists with strings\n",
        "#simple example\n",
        "list2 = ['abc', 'def', 'ghi']\n",
        "list2[2]"
      ],
      "metadata": {
        "colab": {
          "base_uri": "https://localhost:8080/",
          "height": 37
        },
        "id": "kGpCDMDMNPhW",
        "outputId": "bcb81310-b274-402b-f209-641bc63e390e"
      },
      "execution_count": null,
      "outputs": [
        {
          "output_type": "execute_result",
          "data": {
            "text/plain": [
              "'ghi'"
            ],
            "application/vnd.google.colaboratory.intrinsic+json": {
              "type": "string"
            }
          },
          "metadata": {},
          "execution_count": 32
        }
      ]
    },
    {
      "cell_type": "code",
      "source": [
        "#can add components to a created list by using append\n",
        "#example \n",
        "list2.append('jkl')"
      ],
      "metadata": {
        "id": "KH1ugNOcNskb"
      },
      "execution_count": null,
      "outputs": []
    },
    {
      "cell_type": "code",
      "source": [
        "print(list2)"
      ],
      "metadata": {
        "colab": {
          "base_uri": "https://localhost:8080/"
        },
        "id": "G5F4TWkrN7hh",
        "outputId": "352f216f-a6aa-4778-b416-504c87491199"
      },
      "execution_count": null,
      "outputs": [
        {
          "output_type": "stream",
          "name": "stdout",
          "text": [
            "['abc', 'def', 'ghi', 'jkl']\n"
          ]
        }
      ]
    },
    {
      "cell_type": "code",
      "source": [
        "#just like a number list can pull certain elements from a string list \n",
        "#example\n",
        "list2[1:3]"
      ],
      "metadata": {
        "colab": {
          "base_uri": "https://localhost:8080/"
        },
        "id": "9DkL73lxN9aZ",
        "outputId": "a4684886-3ae8-4663-d786-ae3265292724"
      },
      "execution_count": null,
      "outputs": [
        {
          "output_type": "execute_result",
          "data": {
            "text/plain": [
              "['def', 'ghi']"
            ]
          },
          "metadata": {},
          "execution_count": 35
        }
      ]
    },
    {
      "cell_type": "code",
      "source": [
        "#can also place new elements in specific locations in the list\n",
        "#example\n",
        "list2[1] = 'mno'"
      ],
      "metadata": {
        "id": "kBxat9SvPFqo"
      },
      "execution_count": null,
      "outputs": []
    },
    {
      "cell_type": "code",
      "source": [
        "list2"
      ],
      "metadata": {
        "colab": {
          "base_uri": "https://localhost:8080/"
        },
        "id": "FhoX4gxQPdZ7",
        "outputId": "83d7714d-420a-45fa-f44b-2d732a9f5d55"
      },
      "execution_count": null,
      "outputs": [
        {
          "output_type": "execute_result",
          "data": {
            "text/plain": [
              "['abc', 'mno', 'ghi', 'jkl']"
            ]
          },
          "metadata": {},
          "execution_count": 37
        }
      ]
    },
    {
      "cell_type": "code",
      "source": [
        "#important to remember this technique does not add but instead replaces"
      ],
      "metadata": {
        "id": "OJtTz4M3PeYT"
      },
      "execution_count": null,
      "outputs": []
    },
    {
      "cell_type": "code",
      "source": [
        "#nests are lists within lists\n",
        "#example\n",
        "nest = [1,2,[3,4]]"
      ],
      "metadata": {
        "id": "3sXvCL6DPqNl"
      },
      "execution_count": null,
      "outputs": []
    },
    {
      "cell_type": "code",
      "source": [
        "#can also index this\n",
        "nest[2]"
      ],
      "metadata": {
        "colab": {
          "base_uri": "https://localhost:8080/"
        },
        "id": "uBKayJezP-tx",
        "outputId": "4a2f0129-563f-4b30-cb84-2353291a5b13"
      },
      "execution_count": null,
      "outputs": [
        {
          "output_type": "execute_result",
          "data": {
            "text/plain": [
              "[3, 4]"
            ]
          },
          "metadata": {},
          "execution_count": 41
        }
      ]
    },
    {
      "cell_type": "code",
      "source": [
        "#so above element 0 is 1, element 1 is 2, and element 2 is 3 and 4\n",
        "#example on how to pull from second list\n",
        "nest[2][1]"
      ],
      "metadata": {
        "colab": {
          "base_uri": "https://localhost:8080/"
        },
        "id": "OKv9sdQ0QIAI",
        "outputId": "7497054a-4831-4086-d280-d4cc8f8b5ac9"
      },
      "execution_count": null,
      "outputs": [
        {
          "output_type": "execute_result",
          "data": {
            "text/plain": [
              "4"
            ]
          },
          "metadata": {},
          "execution_count": 42
        }
      ]
    },
    {
      "cell_type": "code",
      "source": [
        "#above grabs element 2 which is 3 and 4 then grabs element 1 within that list"
      ],
      "metadata": {
        "id": "p5Pm4IJwQe-d"
      },
      "execution_count": null,
      "outputs": []
    },
    {
      "cell_type": "code",
      "source": [
        "#dictionaries hold elements in conjunction with keys\n",
        "dict = {'key':'value', 'key1':'value1'}"
      ],
      "metadata": {
        "id": "ATjMTw_PQ0ah"
      },
      "execution_count": null,
      "outputs": []
    },
    {
      "cell_type": "code",
      "source": [
        "dict['key']"
      ],
      "metadata": {
        "colab": {
          "base_uri": "https://localhost:8080/",
          "height": 37
        },
        "id": "ZFhzG5cbRvaM",
        "outputId": "441c6dba-46a2-4f67-dad3-05321bf4f380"
      },
      "execution_count": null,
      "outputs": [
        {
          "output_type": "execute_result",
          "data": {
            "text/plain": [
              "'value'"
            ],
            "application/vnd.google.colaboratory.intrinsic+json": {
              "type": "string"
            }
          },
          "metadata": {},
          "execution_count": 48
        }
      ]
    },
    {
      "cell_type": "code",
      "source": [
        "#can place lists attached to a key within a dictionary\n",
        "dict2 = {'k':[1,2,3], 'k1':[4,5,6]}"
      ],
      "metadata": {
        "id": "gyKr5EfmSMcB"
      },
      "execution_count": null,
      "outputs": []
    },
    {
      "cell_type": "code",
      "source": [
        "dict2['k1']"
      ],
      "metadata": {
        "colab": {
          "base_uri": "https://localhost:8080/"
        },
        "id": "-NBfIHx0SgZJ",
        "outputId": "19f0ddb0-2ad1-4d30-fabc-6c4449994532"
      },
      "execution_count": null,
      "outputs": [
        {
          "output_type": "execute_result",
          "data": {
            "text/plain": [
              "[4, 5, 6]"
            ]
          },
          "metadata": {},
          "execution_count": 51
        }
      ]
    },
    {
      "cell_type": "code",
      "source": [
        "dict2['k1'][2]"
      ],
      "metadata": {
        "colab": {
          "base_uri": "https://localhost:8080/"
        },
        "id": "XEcGohoVSid2",
        "outputId": "a92a83f1-f3e5-4ef2-de87-f0f399c61b84"
      },
      "execution_count": null,
      "outputs": [
        {
          "output_type": "execute_result",
          "data": {
            "text/plain": [
              "6"
            ]
          },
          "metadata": {},
          "execution_count": 52
        }
      ]
    },
    {
      "cell_type": "code",
      "source": [
        "#can have a dictionary within a dictionary\n",
        "dict3 = {'outerkey':{'innerkey':['a1','b2','c3']}}"
      ],
      "metadata": {
        "id": "iTqmQ5lySveO"
      },
      "execution_count": null,
      "outputs": []
    },
    {
      "cell_type": "code",
      "source": [
        "#pulling 'b2', have to index through outerkey then innerkey then elments within the innerkey list\n",
        "dict3['outerkey']['innerkey'][1]"
      ],
      "metadata": {
        "colab": {
          "base_uri": "https://localhost:8080/",
          "height": 37
        },
        "id": "YBq38ppUTK72",
        "outputId": "f172bc40-b252-4dc3-bfcc-51afb061ffab"
      },
      "execution_count": null,
      "outputs": [
        {
          "output_type": "execute_result",
          "data": {
            "text/plain": [
              "'b2'"
            ],
            "application/vnd.google.colaboratory.intrinsic+json": {
              "type": "string"
            }
          },
          "metadata": {},
          "execution_count": 55
        }
      ]
    },
    {
      "cell_type": "code",
      "source": [
        "#tuples are very similar to lists\n",
        "#they are denoted with regular () while list is with square []\n",
        "#main difference between the two are that lists are mutable and tuples are immutable\n",
        "#example, with a list I can change elements ex list = [1,2,3], I decide that I want to change element 1 \n",
        "#I can go list[1] = 1.5, I then run and I will get [1,1.5,3]\n",
        "#If I was to try this with a tuple then Python will return an error"
      ],
      "metadata": {
        "id": "IKHT028-TcXo"
      },
      "execution_count": null,
      "outputs": []
    },
    {
      "cell_type": "code",
      "source": [
        "#a set is similar to a dictionary but without the key\n",
        "#also more importantly only defines unique values\n",
        "#what this means example\n",
        "{1,2,3}"
      ],
      "metadata": {
        "colab": {
          "base_uri": "https://localhost:8080/"
        },
        "id": "RsudKRMvVYyN",
        "outputId": "13535364-ec93-4f73-c591-bf73dd999ce8"
      },
      "execution_count": null,
      "outputs": [
        {
          "output_type": "execute_result",
          "data": {
            "text/plain": [
              "{1, 2, 3}"
            ]
          },
          "metadata": {},
          "execution_count": 57
        }
      ]
    },
    {
      "cell_type": "code",
      "source": [
        "{1,1,1,2,2,2,2,2,2,3,3,3,3}"
      ],
      "metadata": {
        "colab": {
          "base_uri": "https://localhost:8080/"
        },
        "id": "DZ2U7EGOVwwd",
        "outputId": "6166d3d4-a260-4f0f-9bc2-bae6dcde7db9"
      },
      "execution_count": null,
      "outputs": [
        {
          "output_type": "execute_result",
          "data": {
            "text/plain": [
              "{1, 2, 3}"
            ]
          },
          "metadata": {},
          "execution_count": 58
        }
      ]
    },
    {
      "cell_type": "code",
      "source": [
        "#sets will not return repeats\n",
        "#sets will only return unique values"
      ],
      "metadata": {
        "id": "Ob2e27PHVz98"
      },
      "execution_count": null,
      "outputs": []
    },
    {
      "cell_type": "code",
      "source": [
        "#there is also a set function\n",
        "#what this means is that within Python there is a built-in function called set()\n",
        "#set() can be useful in pulling unique values from say a list\n",
        "#example\n",
        "s2 = set([1,1,1,1,2,2,2,2,3,3,3,3,4,4,4,4])"
      ],
      "metadata": {
        "id": "5zfdY8iZV_I7"
      },
      "execution_count": null,
      "outputs": []
    },
    {
      "cell_type": "code",
      "source": [
        "#can add to this set of unique values\n",
        "s2.add(6)"
      ],
      "metadata": {
        "id": "2lcmbOtmWkec"
      },
      "execution_count": null,
      "outputs": []
    },
    {
      "cell_type": "code",
      "source": [
        "s2"
      ],
      "metadata": {
        "colab": {
          "base_uri": "https://localhost:8080/"
        },
        "id": "otkyGZXcW1Xm",
        "outputId": "05485079-e86b-4719-de36-e1099eacc4bd"
      },
      "execution_count": null,
      "outputs": [
        {
          "output_type": "execute_result",
          "data": {
            "text/plain": [
              "{1, 2, 3, 4, 6}"
            ]
          },
          "metadata": {},
          "execution_count": 63
        }
      ]
    },
    {
      "cell_type": "code",
      "source": [
        "#booleans also naturally exist within Python\n",
        "1<2"
      ],
      "metadata": {
        "colab": {
          "base_uri": "https://localhost:8080/"
        },
        "id": "sU7RYXFCW2pl",
        "outputId": "744ac1e4-1aa5-427b-e783-aa0d89c86c88"
      },
      "execution_count": null,
      "outputs": [
        {
          "output_type": "execute_result",
          "data": {
            "text/plain": [
              "True"
            ]
          },
          "metadata": {},
          "execution_count": 64
        }
      ]
    },
    {
      "cell_type": "code",
      "source": [
        "1>2"
      ],
      "metadata": {
        "colab": {
          "base_uri": "https://localhost:8080/"
        },
        "id": "TG9huPTuXJdW",
        "outputId": "0be02063-8fb6-4eb4-9418-5cb032479cbe"
      },
      "execution_count": null,
      "outputs": [
        {
          "output_type": "execute_result",
          "data": {
            "text/plain": [
              "False"
            ]
          },
          "metadata": {},
          "execution_count": 65
        }
      ]
    },
    {
      "cell_type": "code",
      "source": [
        "1<=1"
      ],
      "metadata": {
        "colab": {
          "base_uri": "https://localhost:8080/"
        },
        "id": "NP4XC4ntXK6e",
        "outputId": "867c07a9-d44a-4898-da1f-9b3c0b24bd00"
      },
      "execution_count": null,
      "outputs": [
        {
          "output_type": "execute_result",
          "data": {
            "text/plain": [
              "True"
            ]
          },
          "metadata": {},
          "execution_count": 67
        }
      ]
    },
    {
      "cell_type": "code",
      "source": [
        "#be aware can't do 1=1 because Python sees that as a naming conflict\n",
        "#to do that equation do this\n",
        "1==1"
      ],
      "metadata": {
        "colab": {
          "base_uri": "https://localhost:8080/"
        },
        "id": "G4sZx9XgXMkJ",
        "outputId": "2efa2973-a58a-4729-b5f8-9b487b247fb9"
      },
      "execution_count": null,
      "outputs": [
        {
          "output_type": "execute_result",
          "data": {
            "text/plain": [
              "True"
            ]
          },
          "metadata": {},
          "execution_count": 68
        }
      ]
    },
    {
      "cell_type": "code",
      "source": [
        "#not equal to is defined with an !\n",
        "1 !=1"
      ],
      "metadata": {
        "colab": {
          "base_uri": "https://localhost:8080/"
        },
        "id": "h5K7mppfXip3",
        "outputId": "c7abaa6f-d57a-4138-c3ca-a35a8f8b2551"
      },
      "execution_count": null,
      "outputs": [
        {
          "output_type": "execute_result",
          "data": {
            "text/plain": [
              "False"
            ]
          },
          "metadata": {},
          "execution_count": 69
        }
      ]
    },
    {
      "cell_type": "code",
      "source": [
        "1!=2"
      ],
      "metadata": {
        "colab": {
          "base_uri": "https://localhost:8080/"
        },
        "id": "a4CzmEkyXxLe",
        "outputId": "192b053f-c86d-42b4-a316-20d9a3beac2d"
      },
      "execution_count": null,
      "outputs": [
        {
          "output_type": "execute_result",
          "data": {
            "text/plain": [
              "True"
            ]
          },
          "metadata": {},
          "execution_count": 70
        }
      ]
    },
    {
      "cell_type": "code",
      "source": [
        "#can also use conjunctions with this boolean format\n",
        "(2<3) and (3<4)"
      ],
      "metadata": {
        "colab": {
          "base_uri": "https://localhost:8080/"
        },
        "id": "2YarSnbGXz3n",
        "outputId": "40f3dd6d-2585-4e24-fd11-2a292bf8ef37"
      },
      "execution_count": null,
      "outputs": [
        {
          "output_type": "execute_result",
          "data": {
            "text/plain": [
              "True"
            ]
          },
          "metadata": {},
          "execution_count": 71
        }
      ]
    },
    {
      "cell_type": "code",
      "source": [
        "#this is the framework to if/then statements\n",
        "if 1<2:\n",
        "  print('yep!')"
      ],
      "metadata": {
        "colab": {
          "base_uri": "https://localhost:8080/"
        },
        "id": "eI-X8f-gYFV0",
        "outputId": "0772f802-b5bd-4246-f1a2-ce7ef04d0458"
      },
      "execution_count": null,
      "outputs": [
        {
          "output_type": "stream",
          "name": "stdout",
          "text": [
            "yep!\n"
          ]
        }
      ]
    },
    {
      "cell_type": "code",
      "source": [
        "#above is basically saying if \"if statement\" is true than perform a piece of code\n",
        "#if 1<2 then print yep\n",
        "#another example\n",
        "if True:\n",
        "  x =2+4\n",
        "  print(x)"
      ],
      "metadata": {
        "colab": {
          "base_uri": "https://localhost:8080/"
        },
        "id": "Ca85klTqrn9K",
        "outputId": "4022edf1-95ad-4af7-d690-142d8336fd55"
      },
      "execution_count": null,
      "outputs": [
        {
          "output_type": "stream",
          "name": "stdout",
          "text": [
            "6\n"
          ]
        }
      ]
    },
    {
      "cell_type": "code",
      "source": [
        "#above \"if True\" is simply a statment or fact there is nothing to determine that it is false\n",
        "#so Python knows to move to the next step and perform the directed piece of code\n",
        "#in this example that is to define x = 2+4 (this step simply saves or takes stock of this line of code)\n",
        "#in order to generate an output we put print(x)"
      ],
      "metadata": {
        "id": "DwvJYAvXsVsN"
      },
      "execution_count": null,
      "outputs": []
    },
    {
      "cell_type": "code",
      "source": [
        "if 1==2:\n",
        "  print('heyo')"
      ],
      "metadata": {
        "id": "xauufLnLtY0t"
      },
      "execution_count": null,
      "outputs": []
    },
    {
      "cell_type": "code",
      "source": [
        "#above gives no output because it is False\n",
        "#since if 1==2 is false, Python does not perform the next line of code"
      ],
      "metadata": {
        "id": "_C_AdNkAtldI"
      },
      "execution_count": null,
      "outputs": []
    },
    {
      "cell_type": "code",
      "source": [
        "if 1==2:\n",
        "  print('heyo')\n",
        "else:\n",
        "  print('ahoi hoi')"
      ],
      "metadata": {
        "colab": {
          "base_uri": "https://localhost:8080/"
        },
        "id": "g7th1BW9t1yb",
        "outputId": "5f1a44d1-25d2-46ca-e324-f8e6cbb8d783"
      },
      "execution_count": null,
      "outputs": [
        {
          "output_type": "stream",
          "name": "stdout",
          "text": [
            "ahoi hoi\n"
          ]
        }
      ]
    },
    {
      "cell_type": "code",
      "source": [
        "#above sees the first line is false\n",
        "#so it doesn't perform the second line\n",
        "#sees that their is additional code so moves to third step\n",
        "#since first line is false this line is true\n",
        "#so it performs the fourth line of code"
      ],
      "metadata": {
        "id": "TnB8LrgGuHmP"
      },
      "execution_count": null,
      "outputs": []
    },
    {
      "cell_type": "code",
      "source": [
        "#can add in unlimited amount of conditions\n",
        "#by using the elif statement\n",
        "#standing for else if \n",
        "#example\n",
        "if 1==2:\n",
        "  print(heyo)\n",
        "elif 3==3:\n",
        "  print('hey now')\n",
        "else:\n",
        "  print('ahoi hoi')"
      ],
      "metadata": {
        "colab": {
          "base_uri": "https://localhost:8080/"
        },
        "id": "GbM7gx6Dui2M",
        "outputId": "d7988527-4105-4577-da10-0034e3bf6ed4"
      },
      "execution_count": null,
      "outputs": [
        {
          "output_type": "stream",
          "name": "stdout",
          "text": [
            "hey now\n"
          ]
        }
      ]
    },
    {
      "cell_type": "code",
      "source": [
        "#what happens above\n",
        "#starts at the first line and continues to chug along until it finds a true statement and then Python executes\n",
        "#once Python executes it stops processing\n",
        "#if elif was 3==4 then Python would have moved to the next line and executed else which is true in that it is just a statement"
      ],
      "metadata": {
        "id": "lat4Jl9MIhj3"
      },
      "execution_count": null,
      "outputs": []
    },
    {
      "cell_type": "code",
      "source": [
        "#for loops allow you to iterate through a sequence\n",
        "seq = [1,2,3,4,5]\n",
        "for item in seq:\n",
        "  print(item)"
      ],
      "metadata": {
        "colab": {
          "base_uri": "https://localhost:8080/"
        },
        "id": "jipPgJ3pJPHM",
        "outputId": "1745cef7-d4c6-42ca-eae9-1ac3a25fabd6"
      },
      "execution_count": null,
      "outputs": [
        {
          "output_type": "stream",
          "name": "stdout",
          "text": [
            "1\n",
            "2\n",
            "3\n",
            "4\n",
            "5\n"
          ]
        }
      ]
    },
    {
      "cell_type": "code",
      "source": [
        "#above for loop essentially re-runs the line of code until it has gone through all of the items of the sequence\n",
        "#so above it grabs 0 element which in this case is 1 and completes the function which in this case is print\n",
        "#once finished it moves on to the second item (ie. element) which in this case is 2 and prints that\n",
        "#runs every element through the same function until Python has completed the sequence"
      ],
      "metadata": {
        "id": "CnFJaBIeKE61"
      },
      "execution_count": null,
      "outputs": []
    },
    {
      "cell_type": "code",
      "source": [
        "#key point to remember is that the word item is just a placeholder for the element in the sequence\n",
        "#we used the word \"item\" above but could have just as easily said \"poop\"\n",
        "for poop in seq:\n",
        "  print(poop)"
      ],
      "metadata": {
        "colab": {
          "base_uri": "https://localhost:8080/"
        },
        "id": "JF-GcqfiKxik",
        "outputId": "af771333-3c75-47af-bffd-3580d429c5bc"
      },
      "execution_count": null,
      "outputs": [
        {
          "output_type": "stream",
          "name": "stdout",
          "text": [
            "1\n",
            "2\n",
            "3\n",
            "4\n",
            "5\n"
          ]
        }
      ]
    },
    {
      "cell_type": "code",
      "source": [
        "#poop simply denotes an element\n",
        "#you can use most words as a placeholder\n",
        "#makes sense to use a placeholder that is intuitively connected"
      ],
      "metadata": {
        "id": "M3CwUvLcLQHV"
      },
      "execution_count": null,
      "outputs": []
    },
    {
      "cell_type": "code",
      "source": [
        "#another trixsy aspect of the for loop\n",
        "for poop in seq:\n",
        "  print('penguin')"
      ],
      "metadata": {
        "colab": {
          "base_uri": "https://localhost:8080/"
        },
        "id": "qZrNCzPlLkQW",
        "outputId": "104f82a0-f6ba-4e74-faa7-c4da6904f4be"
      },
      "execution_count": null,
      "outputs": [
        {
          "output_type": "stream",
          "name": "stdout",
          "text": [
            "penguin\n",
            "penguin\n",
            "penguin\n",
            "penguin\n",
            "penguin\n"
          ]
        }
      ]
    },
    {
      "cell_type": "code",
      "source": [
        "#above is basically saying for every element print the word 'penguin'\n",
        "#there are five elements so Python runs the function five time and in turn prints 'penguin' five times"
      ],
      "metadata": {
        "id": "RVpiN4FXL5Hv"
      },
      "execution_count": null,
      "outputs": []
    },
    {
      "cell_type": "code",
      "source": [
        "#while loops will continue to run the function until all conditions are met\n",
        "#be aware this can lead to an infinite loop \n",
        "hats = 3\n",
        "while hats <= 12:\n",
        "  print('Hat goal is 12, current hat #{}.'.format(hats))\n",
        "  hats = hats + 3 "
      ],
      "metadata": {
        "colab": {
          "base_uri": "https://localhost:8080/"
        },
        "id": "4s1nfa2TMRf5",
        "outputId": "8ba1af42-348f-4c8a-87ad-af4fc338018b"
      },
      "execution_count": null,
      "outputs": [
        {
          "output_type": "stream",
          "name": "stdout",
          "text": [
            "Hat goal is 12, current hat #3.\n",
            "Hat goal is 12, current hat #6.\n",
            "Hat goal is 12, current hat #9.\n",
            "Hat goal is 12, current hat #12.\n"
          ]
        }
      ]
    },
    {
      "cell_type": "code",
      "source": [
        "#above continues to run until the condition that the variable hats =12 is met\n",
        "#hats starts at 3 which is less than 12 so it prints the string\n",
        "#curly brackets and .format are in there to make the print statement dynamic\n",
        "#after printing it changes the condition of hats, in this case adding 3 hats to the original number of hats\n",
        "#this changes the stored value of hats from the original 3 to now 6\n",
        "#since hats is still less than 12 the loop restarts \n",
        "#the same process happens again\n",
        "#this continues until hats is equal to or less than 12"
      ],
      "metadata": {
        "id": "dXqhowTgNJKL"
      },
      "execution_count": null,
      "outputs": []
    },
    {
      "cell_type": "code",
      "source": [
        "#range function\n",
        "range(0,5)"
      ],
      "metadata": {
        "colab": {
          "base_uri": "https://localhost:8080/"
        },
        "id": "MYwjUDmUPOX3",
        "outputId": "21164b92-0d38-45f2-e812-77020ce5d274"
      },
      "execution_count": null,
      "outputs": [
        {
          "output_type": "execute_result",
          "data": {
            "text/plain": [
              "range(0, 5)"
            ]
          },
          "metadata": {},
          "execution_count": 14
        }
      ]
    },
    {
      "cell_type": "code",
      "source": [
        "for poop in range(0,5):\n",
        "  print(poop)"
      ],
      "metadata": {
        "colab": {
          "base_uri": "https://localhost:8080/"
        },
        "id": "SzvJoC7XPjWK",
        "outputId": "67a686d7-926b-4e02-e76e-c14ecfbb9789"
      },
      "execution_count": null,
      "outputs": [
        {
          "output_type": "stream",
          "name": "stdout",
          "text": [
            "0\n",
            "1\n",
            "2\n",
            "3\n",
            "4\n"
          ]
        }
      ]
    },
    {
      "cell_type": "code",
      "source": [
        "for poop in range(0,3):\n",
        "  print(poop)"
      ],
      "metadata": {
        "colab": {
          "base_uri": "https://localhost:8080/"
        },
        "id": "X0_WpgHNPruJ",
        "outputId": "63118575-a762-47a1-ff74-2d35c275fdd5"
      },
      "execution_count": null,
      "outputs": [
        {
          "output_type": "stream",
          "name": "stdout",
          "text": [
            "0\n",
            "1\n",
            "2\n"
          ]
        }
      ]
    },
    {
      "cell_type": "code",
      "source": [
        "#the above range function is just a generator\n",
        "#can turn it into a list as such\n",
        "list(range(0,3))"
      ],
      "metadata": {
        "colab": {
          "base_uri": "https://localhost:8080/"
        },
        "id": "r0Pu_tW3Py0x",
        "outputId": "4d9c7650-ac55-4d20-910f-8757f4f6f294"
      },
      "execution_count": null,
      "outputs": [
        {
          "output_type": "execute_result",
          "data": {
            "text/plain": [
              "[0, 1, 2]"
            ]
          },
          "metadata": {},
          "execution_count": 19
        }
      ]
    },
    {
      "cell_type": "code",
      "source": [
        "#list comprehension is kind of like a for loop but backwards\n",
        "#here is what we are going to reverse engineer\n",
        "x = [1,2,3,4]\n",
        "\n",
        "out = [ ]\n",
        "for num in x:\n",
        "  out.append(num**2)"
      ],
      "metadata": {
        "id": "OMXyfsrHP-14"
      },
      "execution_count": null,
      "outputs": []
    },
    {
      "cell_type": "code",
      "source": [
        "print(out)"
      ],
      "metadata": {
        "colab": {
          "base_uri": "https://localhost:8080/"
        },
        "id": "1Iv6EOalRGbn",
        "outputId": "de043220-ea08-489e-9066-19d8abfa681c"
      },
      "execution_count": null,
      "outputs": [
        {
          "output_type": "stream",
          "name": "stdout",
          "text": [
            "[1, 4, 9, 16]\n"
          ]
        }
      ]
    },
    {
      "cell_type": "code",
      "source": [
        "#list comprehension\n",
        "out = [num**2 for num in x]"
      ],
      "metadata": {
        "id": "r5_CDq3WRQUW"
      },
      "execution_count": null,
      "outputs": []
    },
    {
      "cell_type": "code",
      "source": [
        "out"
      ],
      "metadata": {
        "colab": {
          "base_uri": "https://localhost:8080/"
        },
        "id": "LtxOd69gRsCZ",
        "outputId": "3cba2bce-b99a-4410-9edf-f75a5e67ef4a"
      },
      "execution_count": null,
      "outputs": [
        {
          "output_type": "execute_result",
          "data": {
            "text/plain": [
              "[1, 4, 9, 16]"
            ]
          },
          "metadata": {},
          "execution_count": 26
        }
      ]
    },
    {
      "cell_type": "code",
      "source": [
        "#creating functions\n",
        "#use the marker def, this allows you to define a function\n",
        "def my_func(param1):\n",
        "  print(param1)"
      ],
      "metadata": {
        "id": "jEPkzybPRs65"
      },
      "execution_count": null,
      "outputs": []
    },
    {
      "cell_type": "code",
      "source": [
        "#now we can use this very simple function\n",
        "my_func('the cats meow')"
      ],
      "metadata": {
        "colab": {
          "base_uri": "https://localhost:8080/"
        },
        "id": "ejFn2cpbSNqV",
        "outputId": "1793ffb6-7e06-4bd1-d2cd-bdcaf49f0998"
      },
      "execution_count": null,
      "outputs": [
        {
          "output_type": "stream",
          "name": "stdout",
          "text": [
            "the cats meow\n"
          ]
        }
      ]
    },
    {
      "cell_type": "code",
      "source": [
        "#my_func represents the entire function above\n",
        "#param1 just a placeholder for whatever we want to put into our function"
      ],
      "metadata": {
        "id": "5-PSP9jLSanP"
      },
      "execution_count": null,
      "outputs": []
    },
    {
      "cell_type": "code",
      "source": [
        "#another example\n",
        "#new function\n",
        "def my_func(name):\n",
        "  print('Heyo '+name)"
      ],
      "metadata": {
        "id": "zR3c1iK5SrSq"
      },
      "execution_count": null,
      "outputs": []
    },
    {
      "cell_type": "code",
      "source": [
        "my_func('Baboushka')"
      ],
      "metadata": {
        "colab": {
          "base_uri": "https://localhost:8080/"
        },
        "id": "dMlZDxO2TA8h",
        "outputId": "a64c9e87-f6a7-48e2-edff-10b75efc67aa"
      },
      "execution_count": null,
      "outputs": [
        {
          "output_type": "stream",
          "name": "stdout",
          "text": [
            "Heyo Baboushka\n"
          ]
        }
      ]
    },
    {
      "cell_type": "code",
      "source": [
        "#can also place a default answer into the parameter\n",
        "def my_func(name='Mama'):\n",
        "  print('Heyo '+name)"
      ],
      "metadata": {
        "id": "ZGYfejSfTFna"
      },
      "execution_count": null,
      "outputs": []
    },
    {
      "cell_type": "code",
      "source": [
        "my_func()"
      ],
      "metadata": {
        "colab": {
          "base_uri": "https://localhost:8080/"
        },
        "id": "HwQs-unoTk_j",
        "outputId": "35d50a50-8c91-4565-a059-ffdf58bdeae4"
      },
      "execution_count": null,
      "outputs": [
        {
          "output_type": "stream",
          "name": "stdout",
          "text": [
            "Heyo Mama\n"
          ]
        }
      ]
    },
    {
      "cell_type": "code",
      "source": [
        "#since no name was placed 'Mama' came out\n",
        "#the function is dynamic so you can place a chosen name in there\n",
        "my_func('Potato')"
      ],
      "metadata": {
        "colab": {
          "base_uri": "https://localhost:8080/"
        },
        "id": "RPw2F1URTmja",
        "outputId": "d235bc82-56e0-45d1-bd95-c9bda9565f39"
      },
      "execution_count": null,
      "outputs": [
        {
          "output_type": "stream",
          "name": "stdout",
          "text": [
            "Heyo Potato\n"
          ]
        }
      ]
    },
    {
      "cell_type": "code",
      "source": [
        "my_func"
      ],
      "metadata": {
        "colab": {
          "base_uri": "https://localhost:8080/"
        },
        "id": "5ZcOUSSkT4OL",
        "outputId": "87b092b8-8fef-4dad-aa92-b3fd661afc3e"
      },
      "execution_count": null,
      "outputs": [
        {
          "output_type": "execute_result",
          "data": {
            "text/plain": [
              "<function __main__.my_func(name='Mama')>"
            ]
          },
          "metadata": {},
          "execution_count": 36
        }
      ]
    },
    {
      "cell_type": "code",
      "source": [
        "#above without parentheses, this shows you how Python sees your function"
      ],
      "metadata": {
        "id": "Gbx7_xCST_yH"
      },
      "execution_count": null,
      "outputs": []
    },
    {
      "cell_type": "code",
      "source": [
        "#returing over printing\n",
        "def square(num):\n",
        "  return num**2"
      ],
      "metadata": {
        "id": "ulQQwGOUUGiU"
      },
      "execution_count": null,
      "outputs": []
    },
    {
      "cell_type": "code",
      "source": [
        "output = square(14)"
      ],
      "metadata": {
        "id": "fRvZTcNwUanr"
      },
      "execution_count": null,
      "outputs": []
    },
    {
      "cell_type": "code",
      "source": [
        "output"
      ],
      "metadata": {
        "colab": {
          "base_uri": "https://localhost:8080/"
        },
        "id": "RzB8rsTXUeiV",
        "outputId": "5678134b-4c58-42ab-e179-425b416c8ad1"
      },
      "execution_count": null,
      "outputs": [
        {
          "output_type": "execute_result",
          "data": {
            "text/plain": [
              "196"
            ]
          },
          "metadata": {},
          "execution_count": 40
        }
      ]
    },
    {
      "cell_type": "code",
      "source": [
        "#return is nice because it lets you return a value so that you can set it to another variable"
      ],
      "metadata": {
        "id": "MgXu6TTQUgpx"
      },
      "execution_count": null,
      "outputs": []
    },
    {
      "cell_type": "code",
      "source": [
        "#creating a docstring\n",
        "def square(num):\n",
        "  \"\"\"\n",
        "  This a function that allows one to square a value\n",
        "  \"\"\"\n",
        "  return num**2"
      ],
      "metadata": {
        "id": "sahhy71DV3Zk"
      },
      "execution_count": null,
      "outputs": []
    },
    {
      "cell_type": "code",
      "source": [
        "#to see this docstring\n",
        "#after typing the fucntion so in this case 'square', hit shift+tab\n",
        "#this works for Jupyter notebooks\n"
      ],
      "metadata": {
        "id": "WREo_MRAWno6"
      },
      "execution_count": null,
      "outputs": []
    },
    {
      "cell_type": "code",
      "source": [
        "def times2(var):\n",
        "  return var*2"
      ],
      "metadata": {
        "id": "I13xRxYvWslE"
      },
      "execution_count": null,
      "outputs": []
    },
    {
      "cell_type": "code",
      "source": [
        "times2(9)"
      ],
      "metadata": {
        "colab": {
          "base_uri": "https://localhost:8080/"
        },
        "id": "GgxON9tcYJDy",
        "outputId": "6e8923ba-44e2-4672-b314-741963944192"
      },
      "execution_count": null,
      "outputs": [
        {
          "output_type": "execute_result",
          "data": {
            "text/plain": [
              "18"
            ]
          },
          "metadata": {},
          "execution_count": 47
        }
      ]
    },
    {
      "cell_type": "code",
      "source": [
        "#useful built-in function is the map function\n",
        "#creates a for loop function for you\n",
        "seq = [1,3,5,7,9]"
      ],
      "metadata": {
        "id": "s-ycjP4WYLtO"
      },
      "execution_count": null,
      "outputs": []
    },
    {
      "cell_type": "code",
      "source": [
        "map(times2,seq)"
      ],
      "metadata": {
        "colab": {
          "base_uri": "https://localhost:8080/"
        },
        "id": "jAA9uw84Ym03",
        "outputId": "72993800-6684-4003-9123-fd7a61e64320"
      },
      "execution_count": null,
      "outputs": [
        {
          "output_type": "execute_result",
          "data": {
            "text/plain": [
              "<map at 0x7f34bf265cd0>"
            ]
          },
          "metadata": {},
          "execution_count": 49
        }
      ]
    },
    {
      "cell_type": "code",
      "source": [
        "#above is basically saying that Python has mapped this function to its storage\n",
        "#to return it \n",
        "list(map(times2,seq))"
      ],
      "metadata": {
        "colab": {
          "base_uri": "https://localhost:8080/"
        },
        "id": "cF4GoI7tYqjv",
        "outputId": "abeca037-6563-4971-9205-32aeb9031631"
      },
      "execution_count": null,
      "outputs": [
        {
          "output_type": "execute_result",
          "data": {
            "text/plain": [
              "[2, 6, 10, 14, 18]"
            ]
          },
          "metadata": {},
          "execution_count": 50
        }
      ]
    },
    {
      "cell_type": "code",
      "source": [
        "#can write the above function this way as well\n",
        "def times2(var):return var*2"
      ],
      "metadata": {
        "id": "Hqd4zncbY9KK"
      },
      "execution_count": null,
      "outputs": []
    },
    {
      "cell_type": "code",
      "source": [
        "times2(2)"
      ],
      "metadata": {
        "colab": {
          "base_uri": "https://localhost:8080/"
        },
        "id": "akFiQPvvZS09",
        "outputId": "9f63aa79-f887-4b9b-f7e2-0f1b84f890dc"
      },
      "execution_count": null,
      "outputs": [
        {
          "output_type": "execute_result",
          "data": {
            "text/plain": [
              "4"
            ]
          },
          "metadata": {},
          "execution_count": 52
        }
      ]
    },
    {
      "cell_type": "code",
      "source": [
        "#lambda functions allow us to do this even easier\n",
        "quick_func = lambda var:var*2"
      ],
      "metadata": {
        "id": "WtGOtS6UZVEd"
      },
      "execution_count": null,
      "outputs": []
    },
    {
      "cell_type": "code",
      "source": [
        "quick_func"
      ],
      "metadata": {
        "colab": {
          "base_uri": "https://localhost:8080/"
        },
        "id": "aiQbCTGnZtJf",
        "outputId": "73ed5603-b8af-4613-8a5a-fb6d8cf8d65b"
      },
      "execution_count": null,
      "outputs": [
        {
          "output_type": "execute_result",
          "data": {
            "text/plain": [
              "<function __main__.<lambda>(var)>"
            ]
          },
          "metadata": {},
          "execution_count": 54
        }
      ]
    },
    {
      "cell_type": "code",
      "source": [
        "quick_func(8)"
      ],
      "metadata": {
        "colab": {
          "base_uri": "https://localhost:8080/"
        },
        "id": "YkseFU80Zv0G",
        "outputId": "3b8eff5d-9c0f-4dc4-eee4-08e77136989e"
      },
      "execution_count": null,
      "outputs": [
        {
          "output_type": "execute_result",
          "data": {
            "text/plain": [
              "16"
            ]
          },
          "metadata": {},
          "execution_count": 55
        }
      ]
    },
    {
      "cell_type": "code",
      "source": [
        "#where this becomes more useful\n",
        "#when you don't want to define a function prior to using the map function\n",
        "list(map(lambda num: num**3,seq))"
      ],
      "metadata": {
        "colab": {
          "base_uri": "https://localhost:8080/"
        },
        "id": "ktjxvIKNZyee",
        "outputId": "7c33a73b-b615-4cd5-f57b-886e1be318b5"
      },
      "execution_count": null,
      "outputs": [
        {
          "output_type": "execute_result",
          "data": {
            "text/plain": [
              "[1, 27, 125, 343, 729]"
            ]
          },
          "metadata": {},
          "execution_count": 56
        }
      ]
    },
    {
      "cell_type": "code",
      "source": [
        "#above we wrote an entire function in one line of code\n",
        "#list allows us to call it\n",
        "#map is built-in function that stores our request and also iterates our desired function\n",
        "#lambda allows us to write a quick easy function in one line of code\n",
        "#num is simply our placeholder\n",
        "#num**3 is the meat and bones of our function\n",
        "#seq is our pre-made list"
      ],
      "metadata": {
        "id": "hKNXI8b1aOtF"
      },
      "execution_count": null,
      "outputs": []
    },
    {
      "cell_type": "code",
      "source": [
        "#filter function\n",
        "#filters out \n",
        "list(filter(lambda num: num%2==0, seq))"
      ],
      "metadata": {
        "colab": {
          "base_uri": "https://localhost:8080/"
        },
        "id": "2YZaANxla9Ib",
        "outputId": "c7c90592-3531-483c-b9fa-1881c9b0b6af"
      },
      "execution_count": null,
      "outputs": [
        {
          "output_type": "execute_result",
          "data": {
            "text/plain": [
              "[]"
            ]
          },
          "metadata": {},
          "execution_count": 59
        }
      ]
    },
    {
      "cell_type": "code",
      "source": [
        "#list calls the function\n",
        "#filter is a built-in function that filters out all outputs that do not meet the conditions of the function\n",
        "#lambda our short-hand function\n",
        "#num is our placeholder\n",
        "#num%2==0 is our function, we are asking to make a new set of outputs from our list where the outputs can be evenly divided by 2\n",
        "#[] our output is nada because every number in our list is odd"
      ],
      "metadata": {
        "id": "hUaN8uoLbUPY"
      },
      "execution_count": null,
      "outputs": []
    },
    {
      "cell_type": "code",
      "source": [
        "#a whole series of built-in methods\n",
        "#methods are special tricks done to our string or object when called\n",
        "#example \n",
        "s = 'My name is MATT'"
      ],
      "metadata": {
        "id": "dkubdUCQcMdI"
      },
      "execution_count": null,
      "outputs": []
    },
    {
      "cell_type": "code",
      "source": [
        "s.lower()"
      ],
      "metadata": {
        "colab": {
          "base_uri": "https://localhost:8080/",
          "height": 37
        },
        "id": "Rauz_WwIc2Va",
        "outputId": "97d78f96-e5f9-4c9c-d992-afd0fae81a16"
      },
      "execution_count": null,
      "outputs": [
        {
          "output_type": "execute_result",
          "data": {
            "text/plain": [
              "'my name is matt'"
            ],
            "application/vnd.google.colaboratory.intrinsic+json": {
              "type": "string"
            }
          },
          "metadata": {},
          "execution_count": 62
        }
      ]
    },
    {
      "cell_type": "code",
      "source": [
        "#the above method turns all letters to lowercase\n",
        "#the reverse\n",
        "s.upper()"
      ],
      "metadata": {
        "colab": {
          "base_uri": "https://localhost:8080/",
          "height": 37
        },
        "id": "0b9ZFkb0c4Ly",
        "outputId": "a36a698b-98bc-4f6b-8a3c-8601dcf584b3"
      },
      "execution_count": null,
      "outputs": [
        {
          "output_type": "execute_result",
          "data": {
            "text/plain": [
              "'MY NAME IS MATT'"
            ],
            "application/vnd.google.colaboratory.intrinsic+json": {
              "type": "string"
            }
          },
          "metadata": {},
          "execution_count": 63
        }
      ]
    },
    {
      "cell_type": "code",
      "source": [
        "s.split()"
      ],
      "metadata": {
        "colab": {
          "base_uri": "https://localhost:8080/"
        },
        "id": "X6Y90MpudAih",
        "outputId": "585d824a-5983-41d5-8123-cd9b60b98f62"
      },
      "execution_count": null,
      "outputs": [
        {
          "output_type": "execute_result",
          "data": {
            "text/plain": [
              "['My', 'name', 'is', 'MATT']"
            ]
          },
          "metadata": {},
          "execution_count": 64
        }
      ]
    },
    {
      "cell_type": "code",
      "source": [
        "#above splits everything at the white space"
      ],
      "metadata": {
        "id": "W7DdTHxqdFeL"
      },
      "execution_count": null,
      "outputs": []
    },
    {
      "cell_type": "code",
      "source": [
        "#can split at designated spots \n",
        "s2 = '#holycow!'\n",
        "s2.split('#')"
      ],
      "metadata": {
        "colab": {
          "base_uri": "https://localhost:8080/"
        },
        "id": "9OeiVfO0dJAh",
        "outputId": "6e71c88c-32ff-41e9-de85-3ff10c891084"
      },
      "execution_count": null,
      "outputs": [
        {
          "output_type": "execute_result",
          "data": {
            "text/plain": [
              "['', 'holycow!']"
            ]
          },
          "metadata": {},
          "execution_count": 71
        }
      ]
    },
    {
      "cell_type": "code",
      "source": [
        "#can also use methods on dictionaries\n",
        "d = {'k1':'Popo', 'k2':'Gigio'}"
      ],
      "metadata": {
        "id": "tCU-kG3tdb6j"
      },
      "execution_count": null,
      "outputs": []
    },
    {
      "cell_type": "code",
      "source": [
        "d.keys()"
      ],
      "metadata": {
        "colab": {
          "base_uri": "https://localhost:8080/"
        },
        "id": "hdwP900weKy7",
        "outputId": "cef733ad-8ada-4f26-874a-1646d13cded8"
      },
      "execution_count": null,
      "outputs": [
        {
          "output_type": "execute_result",
          "data": {
            "text/plain": [
              "dict_keys(['k1', 'k2'])"
            ]
          },
          "metadata": {},
          "execution_count": 75
        }
      ]
    },
    {
      "cell_type": "code",
      "source": [
        "d.items()"
      ],
      "metadata": {
        "colab": {
          "base_uri": "https://localhost:8080/"
        },
        "id": "laEDIfLOeSjr",
        "outputId": "5c9215cc-a32f-4e6b-c7c0-f6a94c0d2c44"
      },
      "execution_count": null,
      "outputs": [
        {
          "output_type": "execute_result",
          "data": {
            "text/plain": [
              "dict_items([('k1', 'Popo'), ('k2', 'Gigio')])"
            ]
          },
          "metadata": {},
          "execution_count": 76
        }
      ]
    },
    {
      "cell_type": "code",
      "source": [
        "#in operator\n",
        "#allows you to see if a certain thing is in the list\n",
        "'x' in [1,2,3]"
      ],
      "metadata": {
        "colab": {
          "base_uri": "https://localhost:8080/"
        },
        "id": "fBFV1ErZeYIs",
        "outputId": "94fdcc71-dabc-454a-eecc-b2ec08257394"
      },
      "execution_count": null,
      "outputs": [
        {
          "output_type": "execute_result",
          "data": {
            "text/plain": [
              "False"
            ]
          },
          "metadata": {},
          "execution_count": 78
        }
      ]
    },
    {
      "cell_type": "code",
      "source": [
        "#tuple unpacking\n",
        "x = [(1,2),(3,4),(5,6)]"
      ],
      "metadata": {
        "id": "3dcafSKCee9j"
      },
      "execution_count": null,
      "outputs": []
    },
    {
      "cell_type": "code",
      "source": [
        "x[2][1]"
      ],
      "metadata": {
        "colab": {
          "base_uri": "https://localhost:8080/"
        },
        "id": "msgaYOHJfOLh",
        "outputId": "4e229c0b-ed63-4114-9459-3a827120c120"
      },
      "execution_count": null,
      "outputs": [
        {
          "output_type": "execute_result",
          "data": {
            "text/plain": [
              "6"
            ]
          },
          "metadata": {},
          "execution_count": 80
        }
      ]
    },
    {
      "cell_type": "code",
      "source": [
        "for item in x:\n",
        "  print(item)"
      ],
      "metadata": {
        "colab": {
          "base_uri": "https://localhost:8080/"
        },
        "id": "dFACG7hyfR1V",
        "outputId": "5077fbb0-be0e-4ccb-88b1-bd62749e385e"
      },
      "execution_count": null,
      "outputs": [
        {
          "output_type": "stream",
          "name": "stdout",
          "text": [
            "(1, 2)\n",
            "(3, 4)\n",
            "(5, 6)\n"
          ]
        }
      ]
    },
    {
      "cell_type": "code",
      "source": [
        "for (a,b) in x:\n",
        "  print(a)"
      ],
      "metadata": {
        "colab": {
          "base_uri": "https://localhost:8080/"
        },
        "id": "93yL18nbfXG1",
        "outputId": "5469ac43-6dfc-40c6-f693-26b0abf1a8ec"
      },
      "execution_count": null,
      "outputs": [
        {
          "output_type": "stream",
          "name": "stdout",
          "text": [
            "1\n",
            "3\n",
            "5\n"
          ]
        }
      ]
    },
    {
      "cell_type": "code",
      "source": [
        "for (a,b) in x:\n",
        "  print(b)"
      ],
      "metadata": {
        "colab": {
          "base_uri": "https://localhost:8080/"
        },
        "id": "wKYydG4jfjSd",
        "outputId": "63128de1-55ad-4a57-8ebf-9635d5d4c918"
      },
      "execution_count": null,
      "outputs": [
        {
          "output_type": "stream",
          "name": "stdout",
          "text": [
            "2\n",
            "4\n",
            "6\n"
          ]
        }
      ]
    },
    {
      "cell_type": "code",
      "source": [
        "#parentheses not needed\n",
        "for a,b in x:\n",
        "  print(a)"
      ],
      "metadata": {
        "colab": {
          "base_uri": "https://localhost:8080/"
        },
        "id": "sI0ybQiUfmsN",
        "outputId": "e29afed9-ae83-41d6-aadf-0174a2b4acfd"
      },
      "execution_count": null,
      "outputs": [
        {
          "output_type": "stream",
          "name": "stdout",
          "text": [
            "1\n",
            "3\n",
            "5\n"
          ]
        }
      ]
    },
    {
      "cell_type": "code",
      "source": [],
      "metadata": {
        "id": "PSG671HvfyCp"
      },
      "execution_count": null,
      "outputs": []
    }
  ]
}